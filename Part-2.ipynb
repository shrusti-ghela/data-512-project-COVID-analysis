{
 "cells": [
  {
   "cell_type": "markdown",
   "metadata": {},
   "source": [
    "### Setup\n",
    "Importing required packages"
   ]
  },
  {
   "cell_type": "code",
   "execution_count": 9,
   "metadata": {},
   "outputs": [],
   "source": [
    "import pandas as pd\n",
    "import matplotlib.pyplot as plt \n",
    "import seaborn as sns"
   ]
  },
  {
   "cell_type": "markdown",
   "metadata": {},
   "source": [
    "### Data \n",
    "Importing the data "
   ]
  },
  {
   "cell_type": "code",
   "execution_count": 10,
   "metadata": {},
   "outputs": [],
   "source": [
    "overdoses = pd.read_csv(\"Overdoses.csv\")\n",
    "overdose_deaths = pd.read_csv(\"Overdose deaths.csv\")\n",
    "monthly_overdoses = pd.read_csv(\"monthly.csv\")"
   ]
  },
  {
   "cell_type": "code",
   "execution_count": 11,
   "metadata": {},
   "outputs": [
    {
     "data": {
      "text/html": [
       "<div>\n",
       "<style scoped>\n",
       "    .dataframe tbody tr th:only-of-type {\n",
       "        vertical-align: middle;\n",
       "    }\n",
       "\n",
       "    .dataframe tbody tr th {\n",
       "        vertical-align: top;\n",
       "    }\n",
       "\n",
       "    .dataframe thead th {\n",
       "        text-align: right;\n",
       "    }\n",
       "</style>\n",
       "<table border=\"1\" class=\"dataframe\">\n",
       "  <thead>\n",
       "    <tr style=\"text-align: right;\">\n",
       "      <th></th>\n",
       "      <th>Race</th>\n",
       "      <th>Sex</th>\n",
       "      <th>Age</th>\n",
       "      <th>D.O.D.</th>\n",
       "      <th>C.O.D.</th>\n",
       "      <th>Agency</th>\n",
       "      <th>Manner</th>\n",
       "    </tr>\n",
       "  </thead>\n",
       "  <tbody>\n",
       "    <tr>\n",
       "      <th>0</th>\n",
       "      <td>W</td>\n",
       "      <td>F</td>\n",
       "      <td>30</td>\n",
       "      <td>01/02/2018</td>\n",
       "      <td>a) Fentanyl Intoxication</td>\n",
       "      <td>WCSP (Homer Glen)</td>\n",
       "      <td>NaN</td>\n",
       "    </tr>\n",
       "    <tr>\n",
       "      <th>1</th>\n",
       "      <td>B</td>\n",
       "      <td>M</td>\n",
       "      <td>28</td>\n",
       "      <td>01/01/2018</td>\n",
       "      <td>a) Cold Exposure, Part2: Phencyclidine Intoxic...</td>\n",
       "      <td>Joliet</td>\n",
       "      <td>NaN</td>\n",
       "    </tr>\n",
       "    <tr>\n",
       "      <th>2</th>\n",
       "      <td>B</td>\n",
       "      <td>M</td>\n",
       "      <td>46</td>\n",
       "      <td>01/05/2018</td>\n",
       "      <td>a) Cocaine Intoxication, Part2: Coronary Ather...</td>\n",
       "      <td>Bolingbrook</td>\n",
       "      <td>NaN</td>\n",
       "    </tr>\n",
       "    <tr>\n",
       "      <th>3</th>\n",
       "      <td>W</td>\n",
       "      <td>M</td>\n",
       "      <td>34</td>\n",
       "      <td>01/06/2018</td>\n",
       "      <td>a) Fentanyl and Heroin Intoxication</td>\n",
       "      <td>New Lenox</td>\n",
       "      <td>NaN</td>\n",
       "    </tr>\n",
       "    <tr>\n",
       "      <th>4</th>\n",
       "      <td>W</td>\n",
       "      <td>M</td>\n",
       "      <td>35</td>\n",
       "      <td>01/08/2018</td>\n",
       "      <td>a) Fentanyl Intoxication</td>\n",
       "      <td>WCSP (Frankfort)</td>\n",
       "      <td>NaN</td>\n",
       "    </tr>\n",
       "  </tbody>\n",
       "</table>\n",
       "</div>"
      ],
      "text/plain": [
       "  Race Sex  Age      D.O.D.  \\\n",
       "0    W   F   30  01/02/2018   \n",
       "1    B   M   28  01/01/2018   \n",
       "2    B   M   46  01/05/2018   \n",
       "3    W   M   34  01/06/2018   \n",
       "4    W   M   35  01/08/2018   \n",
       "\n",
       "                                              C.O.D.             Agency Manner  \n",
       "0                           a) Fentanyl Intoxication  WCSP (Homer Glen)    NaN  \n",
       "1  a) Cold Exposure, Part2: Phencyclidine Intoxic...             Joliet    NaN  \n",
       "2  a) Cocaine Intoxication, Part2: Coronary Ather...        Bolingbrook    NaN  \n",
       "3                a) Fentanyl and Heroin Intoxication          New Lenox    NaN  \n",
       "4                           a) Fentanyl Intoxication   WCSP (Frankfort)    NaN  "
      ]
     },
     "execution_count": 11,
     "metadata": {},
     "output_type": "execute_result"
    }
   ],
   "source": [
    "# examining the dataset\n",
    "overdoses.head()"
   ]
  },
  {
   "cell_type": "code",
   "execution_count": 12,
   "metadata": {},
   "outputs": [
    {
     "name": "stdout",
     "output_type": "stream",
     "text": [
      "<class 'pandas.core.frame.DataFrame'>\n",
      "RangeIndex: 539 entries, 0 to 538\n",
      "Data columns (total 7 columns):\n",
      "Race      539 non-null object\n",
      "Sex       539 non-null object\n",
      "Age       539 non-null int64\n",
      "D.O.D.    539 non-null object\n",
      "C.O.D.    539 non-null object\n",
      "Agency    523 non-null object\n",
      "Manner    418 non-null object\n",
      "dtypes: int64(1), object(6)\n",
      "memory usage: 29.6+ KB\n"
     ]
    }
   ],
   "source": [
    "# examining the null values\n",
    "overdoses.info()"
   ]
  },
  {
   "cell_type": "code",
   "execution_count": 13,
   "metadata": {},
   "outputs": [
    {
     "data": {
      "text/html": [
       "<div>\n",
       "<style scoped>\n",
       "    .dataframe tbody tr th:only-of-type {\n",
       "        vertical-align: middle;\n",
       "    }\n",
       "\n",
       "    .dataframe tbody tr th {\n",
       "        vertical-align: top;\n",
       "    }\n",
       "\n",
       "    .dataframe thead th {\n",
       "        text-align: right;\n",
       "    }\n",
       "</style>\n",
       "<table border=\"1\" class=\"dataframe\">\n",
       "  <thead>\n",
       "    <tr style=\"text-align: right;\">\n",
       "      <th></th>\n",
       "      <th>Race</th>\n",
       "      <th>Sex</th>\n",
       "      <th>Age</th>\n",
       "      <th>D.O.D.</th>\n",
       "      <th>C.O.D.</th>\n",
       "      <th>Agency</th>\n",
       "      <th>Manner</th>\n",
       "    </tr>\n",
       "  </thead>\n",
       "  <tbody>\n",
       "    <tr>\n",
       "      <th>0</th>\n",
       "      <td>W</td>\n",
       "      <td>M</td>\n",
       "      <td>35</td>\n",
       "      <td>01/08/2018</td>\n",
       "      <td>a) Fentanyl Intoxication</td>\n",
       "      <td>WCSP (Frankfort)</td>\n",
       "      <td>NaN</td>\n",
       "    </tr>\n",
       "    <tr>\n",
       "      <th>1</th>\n",
       "      <td>W</td>\n",
       "      <td>M</td>\n",
       "      <td>34</td>\n",
       "      <td>01/06/2018</td>\n",
       "      <td>a) Fentanyl and Heroin Intoxication</td>\n",
       "      <td>New Lenox</td>\n",
       "      <td>NaN</td>\n",
       "    </tr>\n",
       "    <tr>\n",
       "      <th>2</th>\n",
       "      <td>W</td>\n",
       "      <td>F</td>\n",
       "      <td>30</td>\n",
       "      <td>01/02/2018</td>\n",
       "      <td>a) Fentanyl Intoxication</td>\n",
       "      <td>WCSP (Homer Glen)</td>\n",
       "      <td>NaN</td>\n",
       "    </tr>\n",
       "    <tr>\n",
       "      <th>3</th>\n",
       "      <td>W</td>\n",
       "      <td>F</td>\n",
       "      <td>37</td>\n",
       "      <td>01/14/2018</td>\n",
       "      <td>a) Fentanyl, Cocaine, Heroin, and Alcohol Into...</td>\n",
       "      <td>Manhattan</td>\n",
       "      <td>NaN</td>\n",
       "    </tr>\n",
       "    <tr>\n",
       "      <th>4</th>\n",
       "      <td>W</td>\n",
       "      <td>M</td>\n",
       "      <td>32</td>\n",
       "      <td>01/24/2018</td>\n",
       "      <td>Fentanyl and Cocaine Intoxication</td>\n",
       "      <td>New Lenox</td>\n",
       "      <td>NaN</td>\n",
       "    </tr>\n",
       "  </tbody>\n",
       "</table>\n",
       "</div>"
      ],
      "text/plain": [
       "  Race Sex  Age      D.O.D.  \\\n",
       "0    W   M   35  01/08/2018   \n",
       "1    W   M   34  01/06/2018   \n",
       "2    W   F   30  01/02/2018   \n",
       "3    W   F   37  01/14/2018   \n",
       "4    W   M   32  01/24/2018   \n",
       "\n",
       "                                              C.O.D.             Agency Manner  \n",
       "0                           a) Fentanyl Intoxication   WCSP (Frankfort)    NaN  \n",
       "1                a) Fentanyl and Heroin Intoxication          New Lenox    NaN  \n",
       "2                           a) Fentanyl Intoxication  WCSP (Homer Glen)    NaN  \n",
       "3  a) Fentanyl, Cocaine, Heroin, and Alcohol Into...          Manhattan    NaN  \n",
       "4                  Fentanyl and Cocaine Intoxication          New Lenox    NaN  "
      ]
     },
     "execution_count": 13,
     "metadata": {},
     "output_type": "execute_result"
    }
   ],
   "source": [
    "# examining the dataset\n",
    "overdose_deaths.head()"
   ]
  },
  {
   "cell_type": "code",
   "execution_count": 14,
   "metadata": {},
   "outputs": [
    {
     "name": "stdout",
     "output_type": "stream",
     "text": [
      "<class 'pandas.core.frame.DataFrame'>\n",
      "RangeIndex: 379 entries, 0 to 378\n",
      "Data columns (total 7 columns):\n",
      "Race      379 non-null object\n",
      "Sex       379 non-null object\n",
      "Age       379 non-null int64\n",
      "D.O.D.    379 non-null object\n",
      "C.O.D.    379 non-null object\n",
      "Agency    374 non-null object\n",
      "Manner    297 non-null object\n",
      "dtypes: int64(1), object(6)\n",
      "memory usage: 20.8+ KB\n"
     ]
    }
   ],
   "source": [
    "# examining the null values\n",
    "overdose_deaths.info()"
   ]
  },
  {
   "cell_type": "code",
   "execution_count": 15,
   "metadata": {},
   "outputs": [],
   "source": [
    "#converting date(D.O.D.) to datetime\n",
    "\n",
    "overdoses['Date'] = pd.to_datetime(overdoses['D.O.D.'])\n",
    "overdose_deaths['Date'] = pd.to_datetime(overdose_deaths['D.O.D.'])\n",
    "\n"
   ]
  },
  {
   "cell_type": "code",
   "execution_count": 16,
   "metadata": {},
   "outputs": [],
   "source": [
    "#extracting important features \n",
    "columns_for_analysis = ['Race', 'Sex', 'Age', 'Date']\n",
    "\n",
    "overdoses = overdoses[columns_for_analysis]\n",
    "overdose_deaths = overdose_deaths[columns_for_analysis]"
   ]
  },
  {
   "cell_type": "code",
   "execution_count": 17,
   "metadata": {},
   "outputs": [],
   "source": [
    "#creating a new-column that represents whether the overdose was fatal or not\n",
    "overdose_deaths['Fatal'] = 'Y'"
   ]
  },
  {
   "cell_type": "code",
   "execution_count": 18,
   "metadata": {},
   "outputs": [
    {
     "data": {
      "text/html": [
       "<div>\n",
       "<style scoped>\n",
       "    .dataframe tbody tr th:only-of-type {\n",
       "        vertical-align: middle;\n",
       "    }\n",
       "\n",
       "    .dataframe tbody tr th {\n",
       "        vertical-align: top;\n",
       "    }\n",
       "\n",
       "    .dataframe thead th {\n",
       "        text-align: right;\n",
       "    }\n",
       "</style>\n",
       "<table border=\"1\" class=\"dataframe\">\n",
       "  <thead>\n",
       "    <tr style=\"text-align: right;\">\n",
       "      <th></th>\n",
       "      <th>Race</th>\n",
       "      <th>Sex</th>\n",
       "      <th>Age</th>\n",
       "      <th>Date</th>\n",
       "      <th>Fatal</th>\n",
       "    </tr>\n",
       "  </thead>\n",
       "  <tbody>\n",
       "    <tr>\n",
       "      <th>0</th>\n",
       "      <td>W</td>\n",
       "      <td>M</td>\n",
       "      <td>35</td>\n",
       "      <td>2018-01-08</td>\n",
       "      <td>Y</td>\n",
       "    </tr>\n",
       "    <tr>\n",
       "      <th>1</th>\n",
       "      <td>W</td>\n",
       "      <td>M</td>\n",
       "      <td>34</td>\n",
       "      <td>2018-01-06</td>\n",
       "      <td>Y</td>\n",
       "    </tr>\n",
       "    <tr>\n",
       "      <th>2</th>\n",
       "      <td>W</td>\n",
       "      <td>F</td>\n",
       "      <td>30</td>\n",
       "      <td>2018-01-02</td>\n",
       "      <td>Y</td>\n",
       "    </tr>\n",
       "    <tr>\n",
       "      <th>3</th>\n",
       "      <td>W</td>\n",
       "      <td>F</td>\n",
       "      <td>37</td>\n",
       "      <td>2018-01-14</td>\n",
       "      <td>Y</td>\n",
       "    </tr>\n",
       "    <tr>\n",
       "      <th>4</th>\n",
       "      <td>W</td>\n",
       "      <td>M</td>\n",
       "      <td>32</td>\n",
       "      <td>2018-01-24</td>\n",
       "      <td>Y</td>\n",
       "    </tr>\n",
       "  </tbody>\n",
       "</table>\n",
       "</div>"
      ],
      "text/plain": [
       "  Race Sex  Age       Date Fatal\n",
       "0    W   M   35 2018-01-08     Y\n",
       "1    W   M   34 2018-01-06     Y\n",
       "2    W   F   30 2018-01-02     Y\n",
       "3    W   F   37 2018-01-14     Y\n",
       "4    W   M   32 2018-01-24     Y"
      ]
     },
     "execution_count": 18,
     "metadata": {},
     "output_type": "execute_result"
    }
   ],
   "source": [
    "overdose_deaths.head()"
   ]
  },
  {
   "cell_type": "code",
   "execution_count": 19,
   "metadata": {
    "scrolled": true
   },
   "outputs": [
    {
     "data": {
      "text/plain": [
       "W           446\n",
       "B            78\n",
       "M             6\n",
       "A             1\n",
       "Hispanic      1\n",
       "Asian         1\n",
       "w             1\n",
       "B/W           1\n",
       "Korean        1\n",
       "Mexican       1\n",
       "K             1\n",
       "H             1\n",
       "Name: Race, dtype: int64"
      ]
     },
     "execution_count": 19,
     "metadata": {},
     "output_type": "execute_result"
    }
   ],
   "source": [
    "overdoses['Race'].value_counts()"
   ]
  },
  {
   "cell_type": "markdown",
   "metadata": {},
   "source": [
    "We observe various discrepancies in the ‘Race’ column. For example, in the below snippet, we can see that the White race is denoted by ‘W’ and ‘w’. We also see that while some are denoted using entire words like Mexican, and Asian, some are just denoted using letters, which makes it difficult to correctly identify which racial class a particular person belongs to. Also, some categories like Mexican fall under the category of Hispanic. The categories are not well defined.  To clean this, I considered all categories except B and W as Other and moved forward with the analysis since there were less than 5 cases that fall under this category each year. It would have been easier to clean this data had there been any data dictionary that tells us what exactly each of these categories means. "
   ]
  },
  {
   "cell_type": "code",
   "execution_count": 20,
   "metadata": {},
   "outputs": [
    {
     "data": {
      "text/plain": [
       "W          325\n",
       "B           47\n",
       "M            2\n",
       "w            2\n",
       "Asian        1\n",
       "Mexican      1\n",
       "H            1\n",
       "Name: Race, dtype: int64"
      ]
     },
     "execution_count": 20,
     "metadata": {},
     "output_type": "execute_result"
    }
   ],
   "source": [
    "overdose_deaths['Race'].value_counts()"
   ]
  },
  {
   "cell_type": "code",
   "execution_count": 21,
   "metadata": {},
   "outputs": [
    {
     "data": {
      "text/plain": [
       "M         392\n",
       "F         142\n",
       "W           2\n",
       "f           1\n",
       "Female      1\n",
       "B           1\n",
       "Name: Sex, dtype: int64"
      ]
     },
     "execution_count": 21,
     "metadata": {},
     "output_type": "execute_result"
    }
   ],
   "source": [
    "overdoses['Sex'].value_counts()"
   ]
  },
  {
   "cell_type": "markdown",
   "metadata": {},
   "source": [
    "There was a similar problem observed in the ‘Sex’ column too.  ‘F’, ‘f’, ‘W’, and ‘Female’ represented the same category. But again, this was an assumption made on my part as there was no data dictionary to verify this. I however combined these under a single category. \n"
   ]
  },
  {
   "cell_type": "code",
   "execution_count": 22,
   "metadata": {},
   "outputs": [
    {
     "data": {
      "text/plain": [
       "M    288\n",
       "F     90\n",
       "W      1\n",
       "Name: Sex, dtype: int64"
      ]
     },
     "execution_count": 22,
     "metadata": {},
     "output_type": "execute_result"
    }
   ],
   "source": [
    "overdose_deaths['Sex'].value_counts()"
   ]
  },
  {
   "cell_type": "code",
   "execution_count": 23,
   "metadata": {},
   "outputs": [],
   "source": [
    "#cleaning the Race and Sex column to distinguishable categories\n",
    "\n",
    "overdoses.loc[overdoses['Race'] == 'w', 'Race'] = 'W'\n",
    "overdoses.loc[overdoses['Race'] == 'M', 'Race'] = 'Other'\n",
    "overdoses.loc[overdoses['Race'] == 'K', 'Race'] = 'Other'\n",
    "overdoses.loc[overdoses['Race'] == 'Korean', 'Race'] = 'Other'\n",
    "overdoses.loc[overdoses['Race'] == 'A', 'Race'] = 'Other'\n",
    "overdoses.loc[overdoses['Race'] == 'H', 'Race'] = 'Other'\n",
    "overdoses.loc[overdoses['Race'] == 'B/W', 'Race'] = 'Other'\n",
    "overdoses.loc[overdoses['Race'] == 'Mexican', 'Race'] = 'Other'\n",
    "overdoses.loc[overdoses['Race'] == 'Asian', 'Race'] = 'Other'\n",
    "overdoses.loc[overdoses['Race'] == 'Hispanic', 'Race'] = 'Other'\n",
    "\n",
    "overdose_deaths.loc[overdose_deaths['Race'] == 'w', 'Race'] = 'W'\n",
    "overdose_deaths.loc[overdose_deaths['Race'] == 'M', 'Race'] = 'Other'\n",
    "overdose_deaths.loc[overdose_deaths['Race'] == 'H', 'Race'] = 'Other'\n",
    "overdose_deaths.loc[overdose_deaths['Race'] == 'Mexican', 'Race'] = 'Other'\n",
    "overdose_deaths.loc[overdose_deaths['Race'] == 'Asian', 'Race'] = 'Other'\n",
    "\n",
    "overdoses.loc[overdoses['Sex'] == 'Female', 'Sex'] = 'F'\n",
    "overdoses.loc[overdoses['Sex'] == 'W', 'Sex'] = 'F'\n",
    "overdoses.loc[overdoses['Sex'] == 'f', 'Sex'] = 'F'\n",
    "overdoses.loc[overdoses['Sex'] == 'B', 'Sex'] = 'Other'\n",
    "\n",
    "overdose_deaths.loc[overdose_deaths['Sex'] == 'W', 'Sex'] = 'F'\n"
   ]
  },
  {
   "cell_type": "code",
   "execution_count": 24,
   "metadata": {},
   "outputs": [
    {
     "data": {
      "text/plain": [
       "W        447\n",
       "B         78\n",
       "Other     14\n",
       "Name: Race, dtype: int64"
      ]
     },
     "execution_count": 24,
     "metadata": {},
     "output_type": "execute_result"
    }
   ],
   "source": [
    "overdoses['Race'].value_counts()"
   ]
  },
  {
   "cell_type": "code",
   "execution_count": 25,
   "metadata": {},
   "outputs": [
    {
     "data": {
      "text/plain": [
       "W        327\n",
       "B         47\n",
       "Other      5\n",
       "Name: Race, dtype: int64"
      ]
     },
     "execution_count": 25,
     "metadata": {},
     "output_type": "execute_result"
    }
   ],
   "source": [
    "overdose_deaths['Race'].value_counts()"
   ]
  },
  {
   "cell_type": "code",
   "execution_count": 26,
   "metadata": {},
   "outputs": [
    {
     "data": {
      "text/plain": [
       "M        392\n",
       "F        146\n",
       "Other      1\n",
       "Name: Sex, dtype: int64"
      ]
     },
     "execution_count": 26,
     "metadata": {},
     "output_type": "execute_result"
    }
   ],
   "source": [
    "overdoses['Sex'].value_counts()\n"
   ]
  },
  {
   "cell_type": "code",
   "execution_count": 27,
   "metadata": {},
   "outputs": [
    {
     "data": {
      "text/plain": [
       "M    288\n",
       "F     91\n",
       "Name: Sex, dtype: int64"
      ]
     },
     "execution_count": 27,
     "metadata": {},
     "output_type": "execute_result"
    }
   ],
   "source": [
    "overdose_deaths['Sex'].value_counts()"
   ]
  },
  {
   "cell_type": "code",
   "execution_count": 28,
   "metadata": {},
   "outputs": [],
   "source": [
    "#merging fatal and non-fatal overdoses in one dataframe\n",
    "merged_df = pd.merge(overdoses,overdose_deaths,how='outer',on=['Race', 'Sex', 'Age', 'Date'])"
   ]
  },
  {
   "cell_type": "code",
   "execution_count": 29,
   "metadata": {},
   "outputs": [
    {
     "data": {
      "text/html": [
       "<div>\n",
       "<style scoped>\n",
       "    .dataframe tbody tr th:only-of-type {\n",
       "        vertical-align: middle;\n",
       "    }\n",
       "\n",
       "    .dataframe tbody tr th {\n",
       "        vertical-align: top;\n",
       "    }\n",
       "\n",
       "    .dataframe thead th {\n",
       "        text-align: right;\n",
       "    }\n",
       "</style>\n",
       "<table border=\"1\" class=\"dataframe\">\n",
       "  <thead>\n",
       "    <tr style=\"text-align: right;\">\n",
       "      <th></th>\n",
       "      <th>Race</th>\n",
       "      <th>Sex</th>\n",
       "      <th>Age</th>\n",
       "      <th>Date</th>\n",
       "      <th>Fatal</th>\n",
       "    </tr>\n",
       "  </thead>\n",
       "  <tbody>\n",
       "    <tr>\n",
       "      <th>0</th>\n",
       "      <td>W</td>\n",
       "      <td>F</td>\n",
       "      <td>30</td>\n",
       "      <td>2018-01-02</td>\n",
       "      <td>Y</td>\n",
       "    </tr>\n",
       "    <tr>\n",
       "      <th>1</th>\n",
       "      <td>B</td>\n",
       "      <td>M</td>\n",
       "      <td>28</td>\n",
       "      <td>2018-01-01</td>\n",
       "      <td>NaN</td>\n",
       "    </tr>\n",
       "    <tr>\n",
       "      <th>2</th>\n",
       "      <td>B</td>\n",
       "      <td>M</td>\n",
       "      <td>46</td>\n",
       "      <td>2018-01-05</td>\n",
       "      <td>NaN</td>\n",
       "    </tr>\n",
       "    <tr>\n",
       "      <th>3</th>\n",
       "      <td>W</td>\n",
       "      <td>M</td>\n",
       "      <td>34</td>\n",
       "      <td>2018-01-06</td>\n",
       "      <td>Y</td>\n",
       "    </tr>\n",
       "    <tr>\n",
       "      <th>4</th>\n",
       "      <td>W</td>\n",
       "      <td>M</td>\n",
       "      <td>35</td>\n",
       "      <td>2018-01-08</td>\n",
       "      <td>Y</td>\n",
       "    </tr>\n",
       "  </tbody>\n",
       "</table>\n",
       "</div>"
      ],
      "text/plain": [
       "  Race Sex  Age       Date Fatal\n",
       "0    W   F   30 2018-01-02     Y\n",
       "1    B   M   28 2018-01-01   NaN\n",
       "2    B   M   46 2018-01-05   NaN\n",
       "3    W   M   34 2018-01-06     Y\n",
       "4    W   M   35 2018-01-08     Y"
      ]
     },
     "execution_count": 29,
     "metadata": {},
     "output_type": "execute_result"
    }
   ],
   "source": [
    "merged_df.head()"
   ]
  },
  {
   "cell_type": "code",
   "execution_count": 30,
   "metadata": {},
   "outputs": [],
   "source": [
    "#filling the missing value in the fatal column created earlier \n",
    "merged_df[\"Fatal\"].fillna(\"N\", inplace = True)"
   ]
  },
  {
   "cell_type": "code",
   "execution_count": 31,
   "metadata": {},
   "outputs": [
    {
     "data": {
      "text/html": [
       "<div>\n",
       "<style scoped>\n",
       "    .dataframe tbody tr th:only-of-type {\n",
       "        vertical-align: middle;\n",
       "    }\n",
       "\n",
       "    .dataframe tbody tr th {\n",
       "        vertical-align: top;\n",
       "    }\n",
       "\n",
       "    .dataframe thead th {\n",
       "        text-align: right;\n",
       "    }\n",
       "</style>\n",
       "<table border=\"1\" class=\"dataframe\">\n",
       "  <thead>\n",
       "    <tr style=\"text-align: right;\">\n",
       "      <th></th>\n",
       "      <th>Race</th>\n",
       "      <th>Sex</th>\n",
       "      <th>Age</th>\n",
       "      <th>Date</th>\n",
       "      <th>Fatal</th>\n",
       "    </tr>\n",
       "  </thead>\n",
       "  <tbody>\n",
       "    <tr>\n",
       "      <th>0</th>\n",
       "      <td>W</td>\n",
       "      <td>F</td>\n",
       "      <td>30</td>\n",
       "      <td>2018-01-02</td>\n",
       "      <td>Y</td>\n",
       "    </tr>\n",
       "    <tr>\n",
       "      <th>1</th>\n",
       "      <td>B</td>\n",
       "      <td>M</td>\n",
       "      <td>28</td>\n",
       "      <td>2018-01-01</td>\n",
       "      <td>N</td>\n",
       "    </tr>\n",
       "    <tr>\n",
       "      <th>2</th>\n",
       "      <td>B</td>\n",
       "      <td>M</td>\n",
       "      <td>46</td>\n",
       "      <td>2018-01-05</td>\n",
       "      <td>N</td>\n",
       "    </tr>\n",
       "    <tr>\n",
       "      <th>3</th>\n",
       "      <td>W</td>\n",
       "      <td>M</td>\n",
       "      <td>34</td>\n",
       "      <td>2018-01-06</td>\n",
       "      <td>Y</td>\n",
       "    </tr>\n",
       "    <tr>\n",
       "      <th>4</th>\n",
       "      <td>W</td>\n",
       "      <td>M</td>\n",
       "      <td>35</td>\n",
       "      <td>2018-01-08</td>\n",
       "      <td>Y</td>\n",
       "    </tr>\n",
       "  </tbody>\n",
       "</table>\n",
       "</div>"
      ],
      "text/plain": [
       "  Race Sex  Age       Date Fatal\n",
       "0    W   F   30 2018-01-02     Y\n",
       "1    B   M   28 2018-01-01     N\n",
       "2    B   M   46 2018-01-05     N\n",
       "3    W   M   34 2018-01-06     Y\n",
       "4    W   M   35 2018-01-08     Y"
      ]
     },
     "execution_count": 31,
     "metadata": {},
     "output_type": "execute_result"
    }
   ],
   "source": [
    "merged_df.head()"
   ]
  },
  {
   "cell_type": "code",
   "execution_count": null,
   "metadata": {},
   "outputs": [],
   "source": []
  },
  {
   "cell_type": "code",
   "execution_count": 32,
   "metadata": {},
   "outputs": [],
   "source": [
    "merged_df['year'] = merged_df['Date'].dt.year\n",
    "merged_df['month'] = merged_df['Date'].dt.month\n",
    "merged_df['dayofmonth'] = merged_df['Date'].dt.day\n"
   ]
  },
  {
   "cell_type": "code",
   "execution_count": 33,
   "metadata": {},
   "outputs": [
    {
     "data": {
      "text/html": [
       "<div>\n",
       "<style scoped>\n",
       "    .dataframe tbody tr th:only-of-type {\n",
       "        vertical-align: middle;\n",
       "    }\n",
       "\n",
       "    .dataframe tbody tr th {\n",
       "        vertical-align: top;\n",
       "    }\n",
       "\n",
       "    .dataframe thead th {\n",
       "        text-align: right;\n",
       "    }\n",
       "</style>\n",
       "<table border=\"1\" class=\"dataframe\">\n",
       "  <thead>\n",
       "    <tr style=\"text-align: right;\">\n",
       "      <th></th>\n",
       "      <th>Race</th>\n",
       "      <th>Sex</th>\n",
       "      <th>Age</th>\n",
       "      <th>Date</th>\n",
       "      <th>Fatal</th>\n",
       "      <th>year</th>\n",
       "      <th>month</th>\n",
       "      <th>dayofmonth</th>\n",
       "    </tr>\n",
       "  </thead>\n",
       "  <tbody>\n",
       "    <tr>\n",
       "      <th>0</th>\n",
       "      <td>W</td>\n",
       "      <td>F</td>\n",
       "      <td>30</td>\n",
       "      <td>2018-01-02</td>\n",
       "      <td>Y</td>\n",
       "      <td>2018</td>\n",
       "      <td>1</td>\n",
       "      <td>2</td>\n",
       "    </tr>\n",
       "    <tr>\n",
       "      <th>1</th>\n",
       "      <td>B</td>\n",
       "      <td>M</td>\n",
       "      <td>28</td>\n",
       "      <td>2018-01-01</td>\n",
       "      <td>N</td>\n",
       "      <td>2018</td>\n",
       "      <td>1</td>\n",
       "      <td>1</td>\n",
       "    </tr>\n",
       "    <tr>\n",
       "      <th>2</th>\n",
       "      <td>B</td>\n",
       "      <td>M</td>\n",
       "      <td>46</td>\n",
       "      <td>2018-01-05</td>\n",
       "      <td>N</td>\n",
       "      <td>2018</td>\n",
       "      <td>1</td>\n",
       "      <td>5</td>\n",
       "    </tr>\n",
       "    <tr>\n",
       "      <th>3</th>\n",
       "      <td>W</td>\n",
       "      <td>M</td>\n",
       "      <td>34</td>\n",
       "      <td>2018-01-06</td>\n",
       "      <td>Y</td>\n",
       "      <td>2018</td>\n",
       "      <td>1</td>\n",
       "      <td>6</td>\n",
       "    </tr>\n",
       "    <tr>\n",
       "      <th>4</th>\n",
       "      <td>W</td>\n",
       "      <td>M</td>\n",
       "      <td>35</td>\n",
       "      <td>2018-01-08</td>\n",
       "      <td>Y</td>\n",
       "      <td>2018</td>\n",
       "      <td>1</td>\n",
       "      <td>8</td>\n",
       "    </tr>\n",
       "  </tbody>\n",
       "</table>\n",
       "</div>"
      ],
      "text/plain": [
       "  Race Sex  Age       Date Fatal  year  month  dayofmonth\n",
       "0    W   F   30 2018-01-02     Y  2018      1           2\n",
       "1    B   M   28 2018-01-01     N  2018      1           1\n",
       "2    B   M   46 2018-01-05     N  2018      1           5\n",
       "3    W   M   34 2018-01-06     Y  2018      1           6\n",
       "4    W   M   35 2018-01-08     Y  2018      1           8"
      ]
     },
     "execution_count": 33,
     "metadata": {},
     "output_type": "execute_result"
    }
   ],
   "source": [
    "merged_df.head()"
   ]
  },
  {
   "cell_type": "markdown",
   "metadata": {},
   "source": [
    "### Analysis"
   ]
  },
  {
   "cell_type": "markdown",
   "metadata": {},
   "source": [
    "#### Reasearch question: How were fatal and non-fatal overdoses influenced by the pandemic?"
   ]
  },
  {
   "cell_type": "code",
   "execution_count": 34,
   "metadata": {},
   "outputs": [
    {
     "data": {
      "text/plain": [
       "<matplotlib.axes._subplots.AxesSubplot at 0x2397aec09b0>"
      ]
     },
     "execution_count": 34,
     "metadata": {},
     "output_type": "execute_result"
    },
    {
     "data": {
      "image/png": "[encoded data removed]",
      "text/plain": [
       "<Figure size 432x288 with 1 Axes>"
      ]
     },
     "metadata": {
      "needs_background": "light"
     },
     "output_type": "display_data"
    }
   ],
   "source": [
    "merged_df['Fatal'].value_counts().plot.bar(rot=0)"
   ]
  },
  {
   "cell_type": "code",
   "execution_count": 35,
   "metadata": {},
   "outputs": [],
   "source": [
    "merged_df['count'] = 1"
   ]
  },
  {
   "cell_type": "code",
   "execution_count": 36,
   "metadata": {
    "scrolled": true
   },
   "outputs": [],
   "source": [
    "fatality_year = merged_df[['Fatal','year','count']].groupby(['Fatal','year']).count().reset_index()"
   ]
  },
  {
   "cell_type": "code",
   "execution_count": 37,
   "metadata": {},
   "outputs": [
    {
     "data": {
      "text/plain": [
       "Text(0,0.5,'number of overdoses')"
      ]
     },
     "execution_count": 37,
     "metadata": {},
     "output_type": "execute_result"
    },
    {
     "data": {
      "image/png": "[encoded data removed]",
      "text/plain": [
       "<Figure size 432x288 with 1 Axes>"
      ]
     },
     "metadata": {
      "needs_background": "light"
     },
     "output_type": "display_data"
    }
   ],
   "source": [
    "merged = pd.merge(fatality_year.loc[fatality_year['Fatal'] == 'N'],fatality_year.loc[fatality_year['Fatal'] == 'Y'],how='outer',on=['year'])\n",
    "merged.rename(columns = {'count_x':'non-fatal', 'count_y':'fatal'}, inplace = True)\n",
    "ax = merged.set_index('year').plot(kind='bar', stacked=True, color=['steelblue', 'red'], title='Fatal and non-fatal overdoses over years')\n",
    "ax.set_ylabel(\"number of overdoses\")\n"
   ]
  },
  {
   "cell_type": "markdown",
   "metadata": {},
   "source": [
    "The above graph denotes the fatal and non-fatal overdoses over the years 2018 to 2021.  This graph clearly demonstrates that while there were no changes in the number of non-fatal overdoses, there was a change in the number of fatal overdoses over the years. This clearly states that even when there was a change in the total number of cases, the number of people that received medical attention and were saved as a result did not change.  However, we cannot come to the conclusion that fewer people were saved as a result of treatment changes that were delayed or denied treatment. This is because there are a lot of underlying reasons that led up to this result which need to be qualitatively examined to come to a solid conclusion. "
   ]
  },
  {
   "cell_type": "code",
   "execution_count": 38,
   "metadata": {},
   "outputs": [
    {
     "data": {
      "text/plain": [
       "Text(0,0.5,'number of overdoses')"
      ]
     },
     "execution_count": 38,
     "metadata": {},
     "output_type": "execute_result"
    },
    {
     "data": {
      "image/png": "[encoded data removed]",
      "text/plain": [
       "<Figure size 432x288 with 1 Axes>"
      ]
     },
     "metadata": {
      "needs_background": "light"
     },
     "output_type": "display_data"
    }
   ],
   "source": [
    "\n",
    "ax = merged.loc[(merged['year'] == 2019) | (merged['year'] == 2020)].set_index('year').plot(kind='bar', stacked=True, color=['steelblue', 'red'], title='2019 vs 2020 fatal and non-fatal overdoses')\n",
    "ax.set_ylabel(\"number of overdoses\")"
   ]
  },
  {
   "cell_type": "markdown",
   "metadata": {},
   "source": [
    "The above graph shows unusual results. The literature review suggested that the COVID-19 pandemic severely affected the drug epidemic in the country. While this was true for the national studies (United States) and state-level studies (Illinois), this is not the case for Will County. We saw a considerable decrease if not significant in the number of fatal overdoses in 2020 (with the onset of the pandemic) as compared to 2019."
   ]
  },
  {
   "cell_type": "code",
   "execution_count": 5,
   "metadata": {},
   "outputs": [
    {
     "data": {
      "text/html": [
       "<div>\n",
       "<style scoped>\n",
       "    .dataframe tbody tr th:only-of-type {\n",
       "        vertical-align: middle;\n",
       "    }\n",
       "\n",
       "    .dataframe tbody tr th {\n",
       "        vertical-align: top;\n",
       "    }\n",
       "\n",
       "    .dataframe thead th {\n",
       "        text-align: right;\n",
       "    }\n",
       "</style>\n",
       "<table border=\"1\" class=\"dataframe\">\n",
       "  <thead>\n",
       "    <tr style=\"text-align: right;\">\n",
       "      <th></th>\n",
       "      <th>year</th>\n",
       "      <th>Month</th>\n",
       "      <th>#Overdoses</th>\n",
       "    </tr>\n",
       "  </thead>\n",
       "  <tbody>\n",
       "    <tr>\n",
       "      <th>0</th>\n",
       "      <td>2019</td>\n",
       "      <td>1</td>\n",
       "      <td>10</td>\n",
       "    </tr>\n",
       "    <tr>\n",
       "      <th>1</th>\n",
       "      <td>2019</td>\n",
       "      <td>2</td>\n",
       "      <td>17</td>\n",
       "    </tr>\n",
       "    <tr>\n",
       "      <th>2</th>\n",
       "      <td>2019</td>\n",
       "      <td>3</td>\n",
       "      <td>11</td>\n",
       "    </tr>\n",
       "    <tr>\n",
       "      <th>3</th>\n",
       "      <td>2019</td>\n",
       "      <td>4</td>\n",
       "      <td>11</td>\n",
       "    </tr>\n",
       "    <tr>\n",
       "      <th>4</th>\n",
       "      <td>2019</td>\n",
       "      <td>5</td>\n",
       "      <td>10</td>\n",
       "    </tr>\n",
       "  </tbody>\n",
       "</table>\n",
       "</div>"
      ],
      "text/plain": [
       "   year  Month  #Overdoses\n",
       "0  2019      1          10\n",
       "1  2019      2          17\n",
       "2  2019      3          11\n",
       "3  2019      4          11\n",
       "4  2019      5          10"
      ]
     },
     "execution_count": 5,
     "metadata": {},
     "output_type": "execute_result"
    }
   ],
   "source": [
    "monthly_overdoses.head()"
   ]
  },
  {
   "cell_type": "markdown",
   "metadata": {},
   "source": [
    "Hypothesis test:\n",
    "Null hypothesis: The average monthly overdoses for 2019 is equal to the average monthly overdoses for 2020\n",
    "\n",
    "\n"
   ]
  },
  {
   "cell_type": "code",
   "execution_count": 41,
   "metadata": {},
   "outputs": [
    {
     "data": {
      "text/plain": [
       "(1.233039742912585, 0.2175609368555973)"
      ]
     },
     "execution_count": 41,
     "metadata": {},
     "output_type": "execute_result"
    }
   ],
   "source": [
    "from statsmodels.stats.weightstats import ztest as ztest\n",
    "\n",
    "#Monthly overdoses for 2019 and 2020\n",
    "A = monthly_overdoses.loc[monthly_overdoses['year'] == 2019]['#Overdoses']\n",
    "B = monthly_overdoses.loc[monthly_overdoses['year'] == 2020]['#Overdoses']\n",
    "#perform two sample z-test\n",
    "ztest(A, B, value=0) "
   ]
  },
  {
   "cell_type": "markdown",
   "metadata": {},
   "source": [
    "To test this hypothesis, I performed a two-sampled z-test. The z-stat was |z| = 1.233\n",
    ", it is then concluded that the null hypothesis is not rejected. Therefore, there is not enough evidence to claim that the average monthly overdoses for 2019 are different than the monthly overdoses for 2020 at a 0.05 significance level. \n"
   ]
  },
  {
   "cell_type": "markdown",
   "metadata": {},
   "source": [
    "#### Research question: How were different demographic affected by the pandemic?"
   ]
  },
  {
   "cell_type": "code",
   "execution_count": 254,
   "metadata": {},
   "outputs": [],
   "source": [
    "race_wise_fatality = merged_df[['Fatal','count','Race','year']].groupby(['Fatal','Race','year']).count().reset_index()\n",
    "#race_wise_fatality"
   ]
  },
  {
   "cell_type": "code",
   "execution_count": 291,
   "metadata": {},
   "outputs": [
    {
     "data": {
      "image/png": "[encoded data removed]",
      "text/plain": [
       "<Figure size 432x288 with 1 Axes>"
      ]
     },
     "metadata": {
      "needs_background": "light"
     },
     "output_type": "display_data"
    }
   ],
   "source": [
    "\n",
    "ax = sns.barplot(\n",
    "    x=\"year\", \n",
    "    y=\"count\", \n",
    "    hue=\"Race\",\n",
    "    data=race_wise_fatality.loc[race_wise_fatality['Fatal'] == 'Y'], \n",
    "    palette='viridis',\n",
    "    ci=None\n",
    "    ).set(title='Race wise fatal overdoes over the years', ylabel='fatal overdoses')\n"
   ]
  },
  {
   "cell_type": "code",
   "execution_count": 256,
   "metadata": {},
   "outputs": [
    {
     "data": {
      "image/png": "[encoded data removed]",
      "text/plain": [
       "<Figure size 432x288 with 1 Axes>"
      ]
     },
     "metadata": {
      "needs_background": "light"
     },
     "output_type": "display_data"
    }
   ],
   "source": [
    "\n",
    "ax = sns.barplot(\n",
    "    x=\"year\", \n",
    "    y=\"count\", \n",
    "    hue=\"Race\",\n",
    "    data=race_wise_fatality.loc[race_wise_fatality['Fatal'] == 'N'], \n",
    "    palette='viridis',\n",
    "    ci=None\n",
    "    ).set(title='Race wise non-fatal overdoes over the years', ylabel='non-fatal overdoses')\n",
    "\n"
   ]
  },
  {
   "cell_type": "markdown",
   "metadata": {},
   "source": [
    "White people seemed to be the most affected by the drug overdose epidemic. However, I see an interesting result even though there was an increase in the number of non-fatal overdoses amongst White folks, there was a decrease in the number of fatal overdoses in 2020 as compared to 2019. Also, it is interesting here to note that this was exactly the opposite for people of color. While there was an overall decrease in non-fatal overdose cases, there was an increase in fatal overdoses in 2020 as compared to 2019 for African Americans. This is a little unusual. And I decided to investigate more. \n"
   ]
  },
  {
   "cell_type": "code",
   "execution_count": 277,
   "metadata": {},
   "outputs": [],
   "source": [
    "race_fatality = pd.merge(race_wise_fatality.loc[race_wise_fatality['Fatal'] == 'N'],race_wise_fatality.loc[race_wise_fatality['Fatal'] == 'Y'],how='outer',on=['Race', 'year'])\n",
    "#race_fatality"
   ]
  },
  {
   "cell_type": "code",
   "execution_count": 278,
   "metadata": {},
   "outputs": [],
   "source": [
    "race_fatality[\"Fatal_y\"].fillna(\"Y\", inplace = True)\n",
    "race_fatality[\"count_y\"].fillna(0, inplace = True)\n"
   ]
  },
  {
   "cell_type": "code",
   "execution_count": 279,
   "metadata": {},
   "outputs": [],
   "source": [
    "#race_fatality"
   ]
  },
  {
   "cell_type": "code",
   "execution_count": 268,
   "metadata": {},
   "outputs": [
    {
     "data": {
      "text/plain": [
       "Text(0.5,0.98,'Fatal and Non-fatal overdoses of African Americans 2019 vs 2020')"
      ]
     },
     "execution_count": 268,
     "metadata": {},
     "output_type": "execute_result"
    },
    {
     "data": {
      "image/png": "[encoded data removed]",
      "text/plain": [
       "<Figure size 720x360 with 2 Axes>"
      ]
     },
     "metadata": {},
     "output_type": "display_data"
    }
   ],
   "source": [
    "fig, (ax1,ax2) = plt.subplots(1,2,figsize=(10,5)) #ax1,ax2 refer to your two pies\n",
    "# 1,2 denotes 1 row, 2 columns - if you want to stack vertically, it would be 2,1\n",
    "\n",
    "labels =race_wise_fatality.loc[(race_wise_fatality['Race'] =='B') & (race_wise_fatality['year'] == 2019)]['Fatal']\n",
    "values =race_wise_fatality.loc[(race_wise_fatality['Race'] =='B') & (race_wise_fatality['year'] == 2019)]['count']\n",
    "ax1.pie(values,labels = labels,autopct = '%1.1f%%') #plot first pie\n",
    "ax1.set_title('Fatal and Non-Fatal overdoses in 2019')\n",
    "\n",
    "\n",
    "labels =race_wise_fatality.loc[(race_wise_fatality['Race'] =='B') & (race_wise_fatality['year'] == 2020)]['Fatal']\n",
    "values =race_wise_fatality.loc[(race_wise_fatality['Race'] =='B') & (race_wise_fatality['year'] == 2020)]['count']\n",
    "ax2.pie(values,labels = labels,autopct = '%1.1f%%') #plot second pie\n",
    "ax2.set_title('Fatal and Non-Fatal overdoses in 2020')\n",
    "\n",
    "fig.suptitle('Fatal and Non-fatal overdoses of African Americans 2019 vs 2020')"
   ]
  },
  {
   "cell_type": "code",
   "execution_count": 269,
   "metadata": {},
   "outputs": [
    {
     "data": {
      "text/plain": [
       "Text(0.5,0.98,'Fatal and Non-fatal overdoses of White people 2019 vs 2020')"
      ]
     },
     "execution_count": 269,
     "metadata": {},
     "output_type": "execute_result"
    },
    {
     "data": {
      "image/png": "[encoded data removed]",
      "text/plain": [
       "<Figure size 720x360 with 2 Axes>"
      ]
     },
     "metadata": {},
     "output_type": "display_data"
    }
   ],
   "source": [
    "fig, (ax1,ax2) = plt.subplots(1,2,figsize=(10,5)) #ax1,ax2 refer to your two pies\n",
    "# 1,2 denotes 1 row, 2 columns - if you want to stack vertically, it would be 2,1\n",
    "\n",
    "labels =race_wise_fatality.loc[(race_wise_fatality['Race'] =='W') & (race_wise_fatality['year'] == 2019)]['Fatal']\n",
    "values =race_wise_fatality.loc[(race_wise_fatality['Race'] =='W') & (race_wise_fatality['year'] == 2019)]['count']\n",
    "ax1.pie(values,labels = labels,autopct = '%1.1f%%') #plot first pie\n",
    "ax1.set_title('Fatal and Non-Fatal overdoses in 2019')\n",
    "\n",
    "\n",
    "labels =race_wise_fatality.loc[(race_wise_fatality['Race'] =='W') & (race_wise_fatality['year'] == 2020)]['Fatal']\n",
    "values =race_wise_fatality.loc[(race_wise_fatality['Race'] =='W') & (race_wise_fatality['year'] == 2020)]['count']\n",
    "ax2.pie(values,labels = labels,autopct = '%1.1f%%') #plot second pie\n",
    "ax2.set_title('Fatal and Non-Fatal overdoses in 2020')\n",
    "\n",
    "fig.suptitle('Fatal and Non-fatal overdoses of White people 2019 vs 2020')"
   ]
  },
  {
   "cell_type": "code",
   "execution_count": 270,
   "metadata": {},
   "outputs": [
    {
     "data": {
      "text/plain": [
       "Text(0.5,0.98,'Fatal and Non-fatal overdoses of other races 2019 vs 2020')"
      ]
     },
     "execution_count": 270,
     "metadata": {},
     "output_type": "execute_result"
    },
    {
     "data": {
      "image/png": "[encoded data removed]",
      "text/plain": [
       "<Figure size 720x360 with 2 Axes>"
      ]
     },
     "metadata": {},
     "output_type": "display_data"
    }
   ],
   "source": [
    "fig, (ax1,ax2) = plt.subplots(1,2,figsize=(10,5)) #ax1,ax2 refer to your two pies\n",
    "# 1,2 denotes 1 row, 2 columns - if you want to stack vertically, it would be 2,1\n",
    "\n",
    "labels =race_wise_fatality.loc[(race_wise_fatality['Race'] =='Other') & (race_wise_fatality['year'] == 2019)]['Fatal']\n",
    "values =race_wise_fatality.loc[(race_wise_fatality['Race'] =='Other') & (race_wise_fatality['year'] == 2019)]['count']\n",
    "ax1.pie(values,labels = labels,autopct = '%1.1f%%') #plot first pie\n",
    "ax1.set_title('Fatal and Non-Fatal overdoses in 2019')\n",
    "\n",
    "\n",
    "labels =race_wise_fatality.loc[(race_wise_fatality['Race'] =='Other') & (race_wise_fatality['year'] == 2020)]['Fatal']\n",
    "values =race_wise_fatality.loc[(race_wise_fatality['Race'] =='Other') & (race_wise_fatality['year'] == 2020)]['count']\n",
    "ax2.pie(values,labels = labels,autopct = '%1.1f%%') #plot second pie\n",
    "ax2.set_title('Fatal and Non-Fatal overdoses in 2020')\n",
    "\n",
    "fig.suptitle('Fatal and Non-fatal overdoses of other races 2019 vs 2020')"
   ]
  },
  {
   "cell_type": "markdown",
   "metadata": {},
   "source": [
    "These pie charts denote that there was a clear increase in the percentage of fatal overdoses in African Americans and other races, even though there was a decrease in total cases. However, for White people, there was a decrease in fatal overdoses even when there was an increase in total cases. This makes us question if there is some sort of bias involved when it comes to the treatment of drug overdose based on the racial profile of the victim. While the data at hand might suggest something of the sort, we can’t definitively say this is the case until we have more qualitative data on hand. These differences might have occurred due to multiple other reasons which are not represented in the data. 5. \n"
   ]
  },
  {
   "cell_type": "code",
   "execution_count": 271,
   "metadata": {},
   "outputs": [],
   "source": [
    "sex_wise_fatality = merged_df[['Fatal','count','Sex','year']].groupby(['Fatal','Sex','year']).count().reset_index()\n",
    "#sex_wise_fatality"
   ]
  },
  {
   "cell_type": "code",
   "execution_count": 283,
   "metadata": {},
   "outputs": [
    {
     "data": {
      "text/plain": [
       "Text(0.5,0.98,'Fatal and Non-fatal overdoses of females 2019 vs 2020')"
      ]
     },
     "execution_count": 283,
     "metadata": {},
     "output_type": "execute_result"
    },
    {
     "data": {
      "image/png": "[encoded data removed]",
      "text/plain": [
       "<Figure size 720x360 with 2 Axes>"
      ]
     },
     "metadata": {},
     "output_type": "display_data"
    }
   ],
   "source": [
    "fig, (ax1,ax2) = plt.subplots(1,2,figsize=(10 ,5)) #ax1,ax2 refer to your two pies\n",
    "# 1,2 denotes 1 row, 2 columns - if you want to stack vertically, it would be 2,1\n",
    "\n",
    "labels =sex_wise_fatality.loc[(sex_wise_fatality['Sex'] =='F') & (sex_wise_fatality['year'] == 2019)]['Fatal']\n",
    "values =sex_wise_fatality.loc[(sex_wise_fatality['Sex'] =='F') & (sex_wise_fatality['year'] == 2019)]['count']\n",
    "ax1.pie(values,labels = labels,autopct = '%1.1f%%') #plot first pie\n",
    "ax1.set_title('Fatal and Non-Fatal overdoses in 2019')\n",
    "\n",
    "\n",
    "labels =sex_wise_fatality.loc[(sex_wise_fatality['Sex'] =='F') & (sex_wise_fatality['year'] == 2020)]['Fatal']\n",
    "values =sex_wise_fatality.loc[(sex_wise_fatality['Sex'] =='F') & (sex_wise_fatality['year'] == 2020)]['count']\n",
    "ax2.pie(values,labels = labels,autopct = '%1.1f%%') #plot second pie\n",
    "ax2.set_title('Fatal and Non-Fatal overdoses in 2020')\n",
    "\n",
    "fig.suptitle('Fatal and Non-fatal overdoses of females 2019 vs 2020')"
   ]
  },
  {
   "cell_type": "code",
   "execution_count": 284,
   "metadata": {},
   "outputs": [
    {
     "data": {
      "text/plain": [
       "Text(0.5,0.98,'Fatal and Non-fatal overdoses of males 2019 vs 2020')"
      ]
     },
     "execution_count": 284,
     "metadata": {},
     "output_type": "execute_result"
    },
    {
     "data": {
      "image/png": "[encoded data removed]",
      "text/plain": [
       "<Figure size 720x360 with 2 Axes>"
      ]
     },
     "metadata": {},
     "output_type": "display_data"
    }
   ],
   "source": [
    "fig, (ax1,ax2) = plt.subplots(1,2,figsize=(10,5)) #ax1,ax2 refer to your two pies\n",
    "# 1,2 denotes 1 row, 2 columns - if you want to stack vertically, it would be 2,1\n",
    "\n",
    "labels =sex_wise_fatality.loc[(sex_wise_fatality['Sex'] =='M') & (sex_wise_fatality['year'] == 2019)]['Fatal']\n",
    "values =sex_wise_fatality.loc[(sex_wise_fatality['Sex'] =='M') & (sex_wise_fatality['year'] == 2019)]['count']\n",
    "ax1.pie(values,labels = labels,autopct = '%1.1f%%') #plot first pie\n",
    "ax1.set_title('Fatal and Non-Fatal overdoses in 2019')\n",
    "\n",
    "\n",
    "labels =sex_wise_fatality.loc[(sex_wise_fatality['Sex'] =='M') & (sex_wise_fatality['year'] == 2020)]['Fatal']\n",
    "values =sex_wise_fatality.loc[(sex_wise_fatality['Sex'] =='M') & (sex_wise_fatality['year'] == 2020)]['count']\n",
    "ax2.pie(values,labels = labels,autopct = '%1.1f%%') #plot second pie\n",
    "ax2.set_title('Fatal and Non-Fatal overdoses in 2020')\n",
    "\n",
    "fig.suptitle('Fatal and Non-fatal overdoses of males 2019 vs 2020')"
   ]
  },
  {
   "cell_type": "markdown",
   "metadata": {},
   "source": [
    "### Discussion\n",
    "First of all, there was no observable difference between the non-fatal overdoses between 2019 and 2020. While there was no significant difference between fatal overdoses as well, we could still observe that there was a slight decrease in fatal overdoses in 2020 as compared to 2019. The situation was not similar to what was observed at the country level and state level which inspired these research questions to be explored. \n",
    "\n",
    "We also observed that different demographics were affected by the drug epidemic and the COVID-19 pandemic in different ways. Even though with this analysis, we necessarily don’t understand the reason behind such a difference, we still understand that it is an important issue. In the future, this question could be answered by a qualitative study of circumstances surrounding drug overdose deaths during the early stages of the COVID-19 pandemic. This could include considering other factors that were changed with the onset of the pandemic (like Mental health impacts, employment, clinical changes, living arrangements, SUDs, and much more) that in combination influenced this difference. Such data could be collected as a human-centered approach from death certificates and medical examiner/coroner (ME/C) reports, including death scene investigations and postmortem toxicology, to capture decedent demographics, overdose-specific circumstances, and drugs involved (i.e., listed as the cause of death). Additionally, abstractor-drafted case narratives provide context not captured through discrete fields. This activity could be then reviewed by professionals and data scientists consistent with applicable federal/state law and CDC policy. \n",
    "\n",
    "The simplistic nature of our analysis method helped us understand at a high level not only the story of how the pandemic affected drug overdose, but also ask follow-up questions such as why we saw some things and whether these observations were in line with what we hypothesized initially. Furthermore, Qualitative measures of how the socioeconomic conditions changed are not documented in this analysis – knowing a little more about them would be valuable. Though we mustn’t forget, a quantitative analysis of the data is what led us to identify this issue to be of pertinence in the first place. \n"
   ]
  }
 ],
 "metadata": {
  "kernelspec": {
   "display_name": "Python 3",
   "language": "python",
   "name": "python3"
  },
  "language_info": {
   "codemirror_mode": {
    "name": "ipython",
    "version": 3
   },
   "file_extension": ".py",
   "mimetype": "text/x-python",
   "name": "python",
   "nbconvert_exporter": "python",
   "pygments_lexer": "ipython3",
   "version": "3.7.0"
  }
 },
 "nbformat": 4,
 "nbformat_minor": 2
}
